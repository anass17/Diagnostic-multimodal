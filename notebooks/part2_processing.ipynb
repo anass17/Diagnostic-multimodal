{
 "cells": [
  {
   "cell_type": "markdown",
   "id": "8abe9247",
   "metadata": {},
   "source": [
    "### Afficher un échantillon d’images pour chaque classe avec les boîtes englobantes."
   ]
  },
  {
   "cell_type": "code",
   "execution_count": null,
   "id": "911063de",
   "metadata": {},
   "outputs": [],
   "source": [
    "image1_path = '../data/raw/Data_Brain/Train/Glioma/images/gg (1).jpg'\n",
    "image2_path = '../data/raw/Data_Brain/Train/Meningioma/images/m (2).jpg'\n",
    "image3_path = '../data/raw/Data_Brain/Train/No Tumor/images/1.jpg'\n",
    "image4_path = '../data/raw/Data_Brain/Train/Pituitary/images/p (1).jpg'\n",
    "\n",
    "import cv2\n",
    "import matplotlib.pyplot as plt\n",
    "\n",
    "plt.figure(figsize=(15, 15))\n",
    "\n",
    "# Glioma\n",
    "\n",
    "image = cv2.imread(image1_path)\n",
    "image_rgb = cv2.cvtColor(image, cv2.COLOR_BGR2RGB)\n",
    "x_min, y_min, x_max, y_max = 200, 200, 350, 350\n",
    "cv2.rectangle(image_rgb, (x_min, y_min), (x_max, y_max), (255, 0, 0), 2)\n",
    "\n",
    "plt.subplot(2, 2, 1)\n",
    "plt.imshow(image_rgb)\n",
    "plt.title(\"Glioma\")\n",
    "plt.axis('off')\n",
    "\n",
    "# Meningioma\n",
    "\n",
    "image = cv2.imread(image2_path)\n",
    "image_rgb = cv2.cvtColor(image, cv2.COLOR_BGR2RGB)\n",
    "x_min, y_min, x_max, y_max = 230, 160, 350, 260\n",
    "cv2.rectangle(image_rgb, (x_min, y_min), (x_max, y_max), (255, 0, 0), 2)\n",
    "\n",
    "plt.subplot(2, 2, 2)\n",
    "plt.imshow(image_rgb)\n",
    "plt.title(\"Meningioma\")\n",
    "plt.axis('off')\n",
    "\n",
    "# No Tumor\n",
    "\n",
    "image = cv2.imread(image3_path)\n",
    "image_rgb = cv2.cvtColor(image, cv2.COLOR_BGR2RGB)\n",
    "\n",
    "plt.subplot(2, 2, 3)\n",
    "plt.imshow(image_rgb)\n",
    "plt.title(\"No Tumor\")\n",
    "plt.axis('off')\n",
    "\n",
    "# Petuitary\n",
    "\n",
    "image = cv2.imread(image4_path)\n",
    "image_rgb = cv2.cvtColor(image, cv2.COLOR_BGR2RGB)\n",
    "x_min, y_min, x_max, y_max = 200, 160, 320, 260\n",
    "cv2.rectangle(image_rgb, (x_min, y_min), (x_max, y_max), (255, 0, 0), 2)\n",
    "\n",
    "plt.subplot(2, 2, 4)\n",
    "plt.imshow(image_rgb)\n",
    "plt.title(\"Petuitary\")\n",
    "plt.axis('off')\n",
    "\n",
    "\n",
    "\n",
    "plt.show()\n",
    "\n"
   ]
  },
  {
   "cell_type": "markdown",
   "id": "a9e350dc",
   "metadata": {},
   "source": [
    "### Créer un dossier pour stocker les données après filtrage."
   ]
  },
  {
   "cell_type": "code",
   "execution_count": 49,
   "id": "42721d8f",
   "metadata": {},
   "outputs": [
    {
     "name": "stdout",
     "output_type": "stream",
     "text": [
      "Directory already exists\n"
     ]
    }
   ],
   "source": [
    "import os\n",
    "\n",
    "dir_path = \"../data/processed/Data_Brain\"\n",
    "\n",
    "try:\n",
    "    os.mkdir(dir_path)\n",
    "except:\n",
    "    print(\"Directory already exists\")"
   ]
  },
  {
   "cell_type": "markdown",
   "id": "11c7f13c",
   "metadata": {},
   "source": [
    "### Pour chaque image : Vérifier si un fichier .txt correspondant existe.\n",
    "\n",
    "- Si oui : copier l’image et le label vers les dossiers outputpath/images/ et outputpath/labels/ (train, valid, test).\n",
    "\n",
    "- Si non : afficher un message d’avertissement et ignorer l’image."
   ]
  },
  {
   "cell_type": "code",
   "execution_count": null,
   "id": "eb2c161f",
   "metadata": {},
   "outputs": [],
   "source": [
    "raw_data_path = \"../data/raw/Data_Brain\"\n",
    "\n",
    "os.listdir()"
   ]
  }
 ],
 "metadata": {
  "kernelspec": {
   "display_name": "Python 3",
   "language": "python",
   "name": "python3"
  },
  "language_info": {
   "codemirror_mode": {
    "name": "ipython",
    "version": 3
   },
   "file_extension": ".py",
   "mimetype": "text/x-python",
   "name": "python",
   "nbconvert_exporter": "python",
   "pygments_lexer": "ipython3",
   "version": "3.13.7"
  }
 },
 "nbformat": 4,
 "nbformat_minor": 5
}
