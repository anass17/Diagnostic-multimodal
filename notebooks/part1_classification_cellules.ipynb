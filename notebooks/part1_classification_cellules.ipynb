{
 "cells": [
  {
   "cell_type": "markdown",
   "id": "00d737e2",
   "metadata": {},
   "source": [
    "# Classification des cellules sanguines cancéreuses (PyTorch)."
   ]
  },
  {
   "cell_type": "markdown",
   "id": "7b5da25c",
   "metadata": {},
   "source": [
    "## 1️⃣ Importation et préparation des données"
   ]
  },
  {
   "cell_type": "markdown",
   "id": "70c046a8",
   "metadata": {},
   "source": [
    "### Imports : "
   ]
  },
  {
   "cell_type": "code",
   "execution_count": 28,
   "id": "3e309541",
   "metadata": {},
   "outputs": [],
   "source": [
    "import numpy as np\n",
    "import pandas as pd\n",
    "import matplotlib.pyplot as plt\n",
    "import seaborn as sns\n",
    "from pathlib import Path\n",
    "from PIL import Image\n",
    "import random\n",
    "import os\n",
    "import cv2\n"
   ]
  },
  {
   "cell_type": "markdown",
   "id": "89428583",
   "metadata": {},
   "source": [
    "### Charger les images du dataset et vérifier leurs extensions (jpeg, jpg, bmp, png). Supprimer celles qui ne correspondent pas."
   ]
  },
  {
   "cell_type": "code",
   "execution_count": 29,
   "id": "11d5f0c1",
   "metadata": {},
   "outputs": [],
   "source": [
    "dataset_path = Path(\"../data/Blood_Cells_Cancer/\")\n",
    "\n",
    "valid_extensions = (\".jpg\", \".jpeg\", \".png\", \".bmp\")\n",
    "\n",
    "images = []\n",
    "labels = []"
   ]
  },
  {
   "cell_type": "code",
   "execution_count": 30,
   "id": "1805480c",
   "metadata": {},
   "outputs": [],
   "source": [
    "problem_files = 0\n",
    "\n",
    "for class_name in os.listdir(dataset_path):\n",
    "    class_path = os.path.join(dataset_path, class_name)\n",
    "    \n",
    "    if os.path.isdir(class_path):\n",
    "        for file_name in os.listdir(class_path):\n",
    "            file_path = os.path.join(class_path, file_name)\n",
    "            \n",
    "            if file_name.lower().endswith(valid_extensions):\n",
    "                \n",
    "                try:\n",
    "                    img = cv2.imread(file_path)\n",
    "                    if img is not None:\n",
    "                        images.append(img)\n",
    "                        labels.append(class_name)\n",
    "                    else:\n",
    "                        problem_files += 1\n",
    "                        print(f\"Impossible de lire l'image : {file_path}\")\n",
    "                        # supprimer si le file ne s'ouvre pas\n",
    "                        try:\n",
    "                            os.remove(file_path)\n",
    "                        except Exception as e:\n",
    "                            print(f\"Erreur lors de la suppression de {file_path} : {e}\")\n",
    "                        \n",
    "                except Exception as e :\n",
    "                    print(f\"Erreur lors du chargement de {file_path} : {e}\")\n",
    "                    \n",
    "            else:\n",
    "                problem_files += 1\n",
    "                print(f\"Extension non valide, fichier {file_path}\")\n",
    "                # supprimer si le fichier n'a pas l'extension valide\n",
    "                try:\n",
    "                    os.remove(file_path)\n",
    "                except Exception as e:\n",
    "                    print(f\"Erreur lors de la suppression de {file_path} : {e}\")\n",
    "                \n",
    "        "
   ]
  },
  {
   "cell_type": "code",
   "execution_count": 31,
   "id": "df7ce8aa",
   "metadata": {},
   "outputs": [
    {
     "name": "stdout",
     "output_type": "stream",
     "text": [
      "Nombre total d'images valides : 3242\n",
      "Nombre de fichiers problématiques : 0\n"
     ]
    }
   ],
   "source": [
    "print(f\"Nombre total d'images valides : {len(images)}\")\n",
    "print(f\"Nombre de fichiers problématiques : {problem_files}\")"
   ]
  },
  {
   "cell_type": "markdown",
   "id": "62cd70f2",
   "metadata": {},
   "source": []
  }
 ],
 "metadata": {
  "kernelspec": {
   "display_name": "Python 3",
   "language": "python",
   "name": "python3"
  },
  "language_info": {
   "codemirror_mode": {
    "name": "ipython",
    "version": 3
   },
   "file_extension": ".py",
   "mimetype": "text/x-python",
   "name": "python",
   "nbconvert_exporter": "python",
   "pygments_lexer": "ipython3",
   "version": "3.13.7"
  }
 },
 "nbformat": 4,
 "nbformat_minor": 5
}
